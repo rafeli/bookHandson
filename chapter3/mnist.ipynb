{
 "cells": [
  {
   "cell_type": "code",
   "execution_count": null,
   "metadata": {},
   "outputs": [],
   "source": [
    "import matplotlib\n",
    "import matplotlib.pyplot as plt\n",
    "import numpy as np"
   ]
  },
  {
   "cell_type": "code",
   "execution_count": null,
   "metadata": {},
   "outputs": [],
   "source": [
    "from sklearn.datasets import fetch_openml\n",
    "\n",
    "# return_X_y=true gibt nur das Tupel von np.arrays\n",
    "# mnist = fetch_openml('mnist_784', version=1, return_X_y=True)\n",
    "\n",
    "# default ist ein object mit 'data', 'target', ... attributes\n",
    "mnist = fetch_openml('mnist_784', version=1)\n",
    "mnist.keys()"
   ]
  },
  {
   "cell_type": "code",
   "execution_count": null,
   "metadata": {},
   "outputs": [],
   "source": [
    "X,y = mnist[\"data\"], mnist[\"target\"]\n",
    "print(X.shape)\n",
    "sampleDigit = X[36000]\n",
    "plt.imshow(sampleDigit.reshape(28,28), cmap = matplotlib.cm.binary, interpolation = \"nearest\")\n",
    "# plt.axis(\"off\")\n",
    "plt.show\n",
    "y[36000]\n"
   ]
  },
  {
   "cell_type": "code",
   "execution_count": null,
   "metadata": {},
   "outputs": [],
   "source": [
    "# meine Spielerei: 10x10 images zusammenstellen\n",
    "\n",
    "randomIndices = np.random.permutation(100)\n",
    "digitTable = X[randomIndices]\n",
    "digitTable.shape\n",
    "\n",
    "def digit(i) :\n",
    "    myDigit = X[randomIndices[i]]\n",
    "    return myDigit.reshape(28,28)\n",
    "\n",
    "# print(digit(27))\n",
    "\n",
    "for i in range(0, 9) :\n",
    "    myRow = digit(10*i)\n",
    "    for j in range(1, 9) : \n",
    "        myRow = np.hstack((myRow, digit(10*i+j)))\n",
    "    if i == 0:\n",
    "        digitTable = myRow\n",
    "    else :\n",
    "        digitTable = np.vstack((digitTable, myRow))\n",
    "            \n",
    "\n",
    "plt.imshow(digitTable, cmap = matplotlib.cm.binary, interpolation = \"nearest\")\n",
    "\n",
    "\n",
    "\n",
    "\n",
    "\n"
   ]
  },
  {
   "cell_type": "code",
   "execution_count": null,
   "metadata": {},
   "outputs": [],
   "source": [
    "# mnist is already split in 60,000 training and 10,000 test data\n",
    "# we shuffle the training data to have a valid basis for crossvalidation\n",
    "shuffle = np.random.permutation(60000)\n",
    "x_train, x_test, y_train, y_test = X[:60000][shuffle], X[60000:], y[:60000][shuffle], y[60000:]"
   ]
  },
  {
   "cell_type": "code",
   "execution_count": null,
   "metadata": {},
   "outputs": [],
   "source": [
    "# train a binary classifier (yes/no) on predicting it's a five or not\n",
    "from sklearn.linear_model import SGDClassifier\n",
    "sgd = SGDClassifier(random_state=42, tol=1e-3, max_iter=1000)\n",
    "sgd.fit(x_train, y_train == '5')\n",
    "\n"
   ]
  },
  {
   "cell_type": "code",
   "execution_count": null,
   "metadata": {},
   "outputs": [],
   "source": [
    "# implement cross-validation ourselves\n",
    "from sklearn.model_selection import StratifiedKFold\n",
    "from sklearn.base import clone\n",
    "\n",
    "y_train_5 = (y_train == '5')\n",
    "skfolds = StratifiedKFold(n_splits=3, random_state=42)\n",
    "for train_index, test_index in skfolds.split(x_train, y_train_5):\n",
    "    fitter = clone(sgd)\n",
    "    fitter.fit(x_train[train_index], y_train_5[train_index])\n",
    "    y_pred = fitter.predict(x_train[test_index])\n",
    "    print(sum(y_pred == y_train_5[test_index]) / len(y_pred))\n",
    "    \n"
   ]
  },
  {
   "cell_type": "code",
   "execution_count": null,
   "metadata": {},
   "outputs": [],
   "source": [
    "# following is identical\n",
    "from sklearn.model_selection import cross_val_score\n",
    "cross_val_score(sgd, x_train, (y_train == '5'), cv=3, scoring=\"accuracy\")"
   ]
  },
  {
   "cell_type": "code",
   "execution_count": null,
   "metadata": {},
   "outputs": [],
   "source": []
  }
 ],
 "metadata": {
  "kernelspec": {
   "display_name": "Python 3",
   "language": "python",
   "name": "python3"
  },
  "language_info": {
   "codemirror_mode": {
    "name": "ipython",
    "version": 3
   },
   "file_extension": ".py",
   "mimetype": "text/x-python",
   "name": "python",
   "nbconvert_exporter": "python",
   "pygments_lexer": "ipython3",
   "version": "3.6.7"
  }
 },
 "nbformat": 4,
 "nbformat_minor": 2
}
