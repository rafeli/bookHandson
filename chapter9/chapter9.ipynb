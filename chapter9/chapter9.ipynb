{
 "cells": [
  {
   "cell_type": "code",
   "execution_count": null,
   "metadata": {},
   "outputs": [],
   "source": [
    "import tensorflow as tf\n",
    "\n",
    "c = tf.constant(5)\n",
    "x = tf.Variable(3, name=\"x\")\n",
    "f = x*x + c\n",
    "with tf.Session() as session:\n",
    "    x.initializer.run()\n",
    "    print(f.eval())\n",
    "    "
   ]
  },
  {
   "cell_type": "code",
   "execution_count": null,
   "metadata": {},
   "outputs": [],
   "source": [
    "\n",
    "# managing two graphs\n",
    "\n",
    "import tensorflow as tf\n",
    "\n",
    "g1 = tf.Graph()\n",
    "g2 = tf.get_default_graph()\n",
    "print(g1 is g2)          # false\n",
    "\n",
    "with g1.as_default():\n",
    "    x = tf.constant(3)\n",
    "    f = x\n",
    "\n",
    "y = tf.Variable(5, name=\"x\")\n",
    "f = x\n",
    "    \n",
    "with g1.as_default(), tf.Session() as session:\n",
    "    print(f.eval())      # 3\n",
    "    \n",
    "# f is one variable and used in both processes. It is *not* possible\n",
    "# to also share x between both processes, renaming y to x leads to error\n",
    "f = y\n",
    "with tf.Session() as session:\n",
    "    y.initializer.run()\n",
    "    print(f.eval())      # 5\n",
    "\n",
    "\n"
   ]
  },
  {
   "cell_type": "code",
   "execution_count": null,
   "metadata": {},
   "outputs": [],
   "source": [
    "# need import_california_housing from chapter 2"
   ]
  },
  {
   "cell_type": "code",
   "execution_count": null,
   "metadata": {},
   "outputs": [],
   "source": [
    "# linear regression\n",
    "housing = fetch_housing_data()\n"
   ]
  },
  {
   "cell_type": "code",
   "execution_count": null,
   "metadata": {},
   "outputs": [],
   "source": []
  }
 ],
 "metadata": {
  "kernelspec": {
   "display_name": "Python 3",
   "language": "python",
   "name": "python3"
  },
  "language_info": {
   "codemirror_mode": {
    "name": "ipython",
    "version": 3
   },
   "file_extension": ".py",
   "mimetype": "text/x-python",
   "name": "python",
   "nbconvert_exporter": "python",
   "pygments_lexer": "ipython3",
   "version": "3.5.2"
  }
 },
 "nbformat": 4,
 "nbformat_minor": 2
}
